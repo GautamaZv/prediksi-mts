{
 "cells": [
  {
   "cell_type": "code",
   "execution_count": null,
   "id": "d177eac5-2ac8-43ef-b932-677e6adc9cb6",
   "metadata": {},
   "outputs": [],
   "source": [
    "import pandas as pd\n",
    "import numpy as np\n",
    "import matplotlib.pyplot as plt\n",
    "#memasukan data latih\n",
    "datalatih = pd.read_excel(r\"C:\\Users\\User\\dataset\\datasetmts.xlsx\")\n",
    "datalatih.head(66)\n",
    "#keterangan = 1 == terlambat\n",
    "#keterangan = 0 == tepat\n",
    "#pendidikan = 1 == SD, 2 == SLTP, 3 == SLTA\n",
    "x = datalatih.drop([\"Keterangan\"], axis=1)\n",
    "x.head(66)\n",
    "y = datalatih[\"Keterangan\"]\n",
    "y.head(66)"
   ]
  }
 ],
 "metadata": {
  "kernelspec": {
   "display_name": "Python 3 (ipykernel)",
   "language": "python",
   "name": "python3"
  },
  "language_info": {
   "codemirror_mode": {
    "name": "ipython",
    "version": 3
   },
   "file_extension": ".py",
   "mimetype": "text/x-python",
   "name": "python",
   "nbconvert_exporter": "python",
   "pygments_lexer": "ipython3",
   "version": "3.12.0"
  }
 },
 "nbformat": 4,
 "nbformat_minor": 5
}
